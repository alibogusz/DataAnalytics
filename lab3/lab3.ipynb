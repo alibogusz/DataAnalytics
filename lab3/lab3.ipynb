{
  "cells": [
    {
      "cell_type": "markdown",
      "metadata": {
        "id": "lm53El2zCMtj"
      },
      "source": [
        "## Data Analytics\n",
        "### Lab 3.\n",
        "Alicja Bogusz"
      ]
    },
    {
      "cell_type": "code",
      "execution_count": 136,
      "metadata": {
        "id": "FzZZEjYeCMtm",
        "colab": {
          "base_uri": "https://localhost:8080/"
        },
        "outputId": "2815a2d7-1d7f-457b-d96b-fe95719f74ca"
      },
      "outputs": [
        {
          "output_type": "stream",
          "name": "stdout",
          "text": [
            "Installing CmdStan version: 2.31.0\n",
            "Install directory: /root/.cmdstan\n",
            "CmdStan version 2.31.0 already installed\n",
            "Installing CmdStan version: 2.31.0\n",
            "Install directory: /root/.cmdstan\n",
            "CmdStan version 2.31.0 already installed\n"
          ]
        }
      ],
      "source": [
        "import cmdstanpy\n",
        "cmdstanpy.install_cmdstan()\n",
        "cmdstanpy.install_cmdstan(compiler=True)  # only valid on Windows\n",
        "import pandas as pd\n",
        "import arviz as az \n",
        "import numpy as np\n",
        "import matplotlib.pyplot as plt"
      ]
    },
    {
      "cell_type": "markdown",
      "metadata": {
        "id": "8LKC7JXpCMtm"
      },
      "source": [
        "### Modeling prior predictive distribution"
      ]
    },
    {
      "cell_type": "markdown",
      "metadata": {
        "id": "rRnmFzvHCMtn"
      },
      "source": [
        "1. Create a Stan model, which will consist of only generated quantites block."
      ]
    },
    {
      "cell_type": "markdown",
      "metadata": {
        "id": "epwYPAvyCMtn"
      },
      "source": [
        "2. In this block define integer variable N for number of trials equal to 50, integer variable y for number of successes and real p for probability of allergic reaction. Remember to use necessary constraints."
      ]
    },
    {
      "cell_type": "markdown",
      "metadata": {
        "id": "Ub13OIKxCMtn"
      },
      "source": [
        "3. Assign a prior for p (appropriate random number generator) that will represent our knowledge about typical cases. You can do it either analytically or by using simulations."
      ]
    },
    {
      "cell_type": "markdown",
      "metadata": {
        "id": "1AiasyLCCMto"
      },
      "source": [
        "4. Sample from binomial distribution, that will use N and sampled p to generate number of allergic reactions y."
      ]
    },
    {
      "cell_type": "markdown",
      "metadata": {
        "id": "cqQBjWnpCMto"
      },
      "source": [
        "5. Generate 1000 samples (pair of p an y) by calling appropriate method in cmdstanpy. Remeber to set fixed_param=True."
      ]
    },
    {
      "cell_type": "code",
      "source": [
        "model = cmdstanpy.CmdStanModel(stan_file='model_ex1.stan')\n",
        "\n",
        "samples = model.sample(fixed_param=True, iter_warmup=1000)\n",
        "\n",
        "p_samples = samples.stan_variable('p')\n",
        "y_samples = samples.stan_variable('y')\n",
        "N = samples.stan_variable('N')\n",
        "\n",
        "result_samples = np.column_stack((p_samples, y_samples))\n",
        "\n",
        "print(result_samples)\n"
      ],
      "metadata": {
        "colab": {
          "base_uri": "https://localhost:8080/",
          "height": 1000,
          "referenced_widgets": [
            "ba4cfbfd871d4cf68c2233588664cd73",
            "725446515505495f852404706c162afb",
            "2fd6888e6f1b49c5beb36c836627d074",
            "f55ec784486543bab14124f5da3be526",
            "8f24c27f14a64a6898c057eab9ccf22c",
            "5cde58fb7d8441e4a0f75f63dc7814dd",
            "5d97ebbbfa64427f8fdace2d4d819775",
            "51dc15f31b4a4aa682cea3c485c20152",
            "62972933035940ff8b574b728aa83dd4",
            "82f77d2edd0d4a7f83efaf361081f6b0",
            "3d044109df2145f18ec88de8ef842fbe"
          ]
        },
        "id": "y5HqRTcAdgI8",
        "outputId": "67dd1a35-5331-4826-bb14-ca432e650edd"
      },
      "execution_count": 137,
      "outputs": [
        {
          "output_type": "stream",
          "name": "stderr",
          "text": [
            "DEBUG:cmdstanpy:found newer exe file, not recompiling\n",
            "DEBUG:cmdstanpy:cmd: /content/model_ex1 info\n",
            "cwd: None\n",
            "12:50:11 - cmdstanpy - INFO - CmdStan start processing\n",
            "INFO:cmdstanpy:CmdStan start processing\n"
          ]
        },
        {
          "output_type": "display_data",
          "data": {
            "text/plain": [
              "chain 1 |          | 00:00 Status"
            ],
            "application/vnd.jupyter.widget-view+json": {
              "version_major": 2,
              "version_minor": 0,
              "model_id": "ba4cfbfd871d4cf68c2233588664cd73"
            }
          },
          "metadata": {}
        },
        {
          "output_type": "stream",
          "name": "stderr",
          "text": [
            "DEBUG:cmdstanpy:idx 0\n",
            "DEBUG:cmdstanpy:running CmdStan, num_threads: 1\n",
            "DEBUG:cmdstanpy:CmdStan args: ['/content/model_ex1', 'id=1', 'random', 'seed=76786', 'output', 'file=/tmp/tmpe2flu_nx/model_ex1jfxdq0ke/model_ex1-20230329125011.csv', 'method=sample', 'num_warmup=1000', 'algorithm=fixed_param']\n"
          ]
        },
        {
          "output_type": "stream",
          "name": "stdout",
          "text": [
            "                                                                                "
          ]
        },
        {
          "output_type": "stream",
          "name": "stderr",
          "text": [
            "12:50:11 - cmdstanpy - INFO - CmdStan done processing.\n",
            "INFO:cmdstanpy:CmdStan done processing.\n",
            "DEBUG:cmdstanpy:runset\n",
            "RunSet: chains=1, chain_ids=[1], num_processes=1\n",
            " cmd (chain 1):\n",
            "\t['/content/model_ex1', 'id=1', 'random', 'seed=76786', 'output', 'file=/tmp/tmpe2flu_nx/model_ex1jfxdq0ke/model_ex1-20230329125011.csv', 'method=sample', 'num_warmup=1000', 'algorithm=fixed_param']\n",
            " retcodes=[0]\n",
            " per-chain output files (showing chain 1 only):\n",
            " csv_file:\n",
            "\t/tmp/tmpe2flu_nx/model_ex1jfxdq0ke/model_ex1-20230329125011.csv\n",
            " console_msgs (if any):\n",
            "\t/tmp/tmpe2flu_nx/model_ex1jfxdq0ke/model_ex1-20230329125011_0-stdout.txt\n",
            "DEBUG:cmdstanpy:Chain 1 console:\n",
            "method = sample (Default)\n",
            "  sample\n",
            "    num_samples = 1000 (Default)\n",
            "    num_warmup = 1000 (Default)\n",
            "    save_warmup = 0 (Default)\n",
            "    thin = 1 (Default)\n",
            "    adapt\n",
            "      engaged = 1 (Default)\n",
            "      gamma = 0.050000000000000003 (Default)\n",
            "      delta = 0.80000000000000004 (Default)\n",
            "      kappa = 0.75 (Default)\n",
            "      t0 = 10 (Default)\n",
            "      init_buffer = 75 (Default)\n",
            "      term_buffer = 50 (Default)\n",
            "      window = 25 (Default)\n",
            "    algorithm = fixed_param\n",
            "    num_chains = 1 (Default)\n",
            "id = 1 (Default)\n",
            "data\n",
            "  file =  (Default)\n",
            "init = 2 (Default)\n",
            "random\n",
            "  seed = 76786\n",
            "output\n",
            "  file = /tmp/tmpe2flu_nx/model_ex1jfxdq0ke/model_ex1-20230329125011.csv\n",
            "  diagnostic_file =  (Default)\n",
            "  refresh = 100 (Default)\n",
            "  sig_figs = -1 (Default)\n",
            "  profile_file = profile.csv (Default)\n",
            "num_threads = 1 (Default)\n",
            "\n",
            "Iteration:   1 / 1000 [  0%]  (Sampling)\n",
            "Iteration: 100 / 1000 [ 10%]  (Sampling)\n",
            "Iteration: 200 / 1000 [ 20%]  (Sampling)\n",
            "Iteration: 300 / 1000 [ 30%]  (Sampling)\n",
            "Iteration: 400 / 1000 [ 40%]  (Sampling)\n",
            "Iteration: 500 / 1000 [ 50%]  (Sampling)\n",
            "Iteration: 600 / 1000 [ 60%]  (Sampling)\n",
            "Iteration: 700 / 1000 [ 70%]  (Sampling)\n",
            "Iteration: 800 / 1000 [ 80%]  (Sampling)\n",
            "Iteration: 900 / 1000 [ 90%]  (Sampling)\n",
            "Iteration: 1000 / 1000 [100%]  (Sampling)\n",
            "\n",
            " Elapsed Time: 0 seconds (Warm-up)\n",
            "               0.013 seconds (Sampling)\n",
            "               0.013 seconds (Total)\n",
            "\n",
            "\n"
          ]
        },
        {
          "output_type": "stream",
          "name": "stdout",
          "text": [
            "\n",
            "[[ 0.0238788  1.       ]\n",
            " [ 0.089492   2.       ]\n",
            " [ 0.458637  20.       ]\n",
            " ...\n",
            " [ 0.164528   7.       ]\n",
            " [ 0.0267069  1.       ]\n",
            " [ 0.167643   8.       ]]\n"
          ]
        }
      ]
    },
    {
      "cell_type": "markdown",
      "metadata": {
        "id": "coybVaj0CMtq"
      },
      "source": [
        "6. Compute ratio of allergic reactions for each sample and create a histogram."
      ]
    },
    {
      "cell_type": "code",
      "source": [
        "ratio_samples = y_samples / p_samples / N\n",
        "\n",
        "plt.hist(ratio_samples, bins=50)\n",
        "plt.xlabel('Ratio')\n",
        "plt.ylabel('Frequency')\n",
        "plt.title('Ratio of allergic reactions')\n",
        "plt.grid()\n",
        "plt.show()\n"
      ],
      "metadata": {
        "colab": {
          "base_uri": "https://localhost:8080/",
          "height": 295
        },
        "id": "lxDYXjgzI4F_",
        "outputId": "ad53058d-7852-4d2b-c82d-0589bfe8acad"
      },
      "execution_count": 138,
      "outputs": [
        {
          "output_type": "display_data",
          "data": {
            "text/plain": [
              "<Figure size 432x288 with 1 Axes>"
            ],
            "image/png": "[encoded data removed]"
          },
          "metadata": {
            "needs_background": "light"
          }
        }
      ]
    },
    {
      "cell_type": "markdown",
      "metadata": {
        "id": "pb7hGXEjCMtq"
      },
      "source": [
        "7. Verify if mean of the ratio is consistent with prior knowledge, otherwise modify prior parameters. Describe your reasoning in the report"
      ]
    },
    {
      "cell_type": "code",
      "source": [
        "prior_mean_ratio = 0.1  # Expected value of ratio based on prior knowledge\n",
        "prior_mean_y = prior_mean_ratio * N * 0.5  # Expected value of y based on prior knowledge and assumed probability of 0.5\n",
        "prior_mean_p = prior_mean_y / N  # Expected value of p based on prior knowledge and assumed probability of 0.5\n",
        "\n",
        "posterior_mean_ratio = np.mean(ratio_samples)\n",
        "\n",
        "print('Prior mean ratio:', prior_mean_ratio)\n",
        "print('Posterior mean ratio:', posterior_mean_ratio)\n",
        "# print('Expected value of ratio:', prior_mean_y / N)\n",
        "\n",
        "if abs(posterior_mean_ratio - prior_mean_ratio) > 0.01:\n",
        "    print('The mean of the ratio is not consistent with prior knowledge.')\n",
        "else:\n",
        "    print('The mean of the ratio is consistent with prior knowledge.')"
      ],
      "metadata": {
        "colab": {
          "base_uri": "https://localhost:8080/"
        },
        "id": "_xMt6Sl2I_LR",
        "outputId": "8a4d7b83-6abc-4133-a1fc-92b973ac0039"
      },
      "execution_count": 139,
      "outputs": [
        {
          "output_type": "stream",
          "name": "stdout",
          "text": [
            "Prior mean ratio: 0.1\n",
            "Posterior mean ratio: 1.0140904596963225\n",
            "The mean of the ratio is not consistent with prior knowledge.\n"
          ]
        }
      ]
    },
    {
      "cell_type": "markdown",
      "metadata": {
        "id": "XI3F5-NiCMtq"
      },
      "source": [
        "### Modeling posterior and posterior predictive distribution"
      ]
    },
    {
      "cell_type": "markdown",
      "metadata": {
        "id": "WC86nsOBCMtr"
      },
      "source": [
        "1. Create a Stan model in which:\n",
        "- N and y are appropriately defined in the data block.\n",
        "- p is defined in the parameters block.\n",
        "- binomial likelihood and prior (selected using prior predictive distribution) are defined in the model block.\n",
        "- new integer variable y_pred in the generated quantities block.\n",
        "- sample y_pred using values of parameter p and input variable N"
      ]
    },
    {
      "cell_type": "markdown",
      "metadata": {
        "id": "6YW6EMs7CMtr"
      },
      "source": [
        "2. Generate default number of samples from appropriate method in cmdstanpy."
      ]
    },
    {
      "cell_type": "code",
      "source": [
        "model = cmdstanpy.CmdStanModel(stan_file='model_ex2.stan')\n",
        "data = {'N': 50, 'y': 10}\n",
        "samples = model.sample(data=data) #, fixed_param=True, iter_warmup=1000)\n",
        "y_pred_samples = samples.stan_variable('y_pred')\n",
        "print(y_pred_samples)"
      ],
      "metadata": {
        "colab": {
          "base_uri": "https://localhost:8080/",
          "height": 1000,
          "referenced_widgets": [
            "36d40a96d3794a32b41c924d13317e84",
            "2eac9ca735d3466f82e19629a9abdbe9",
            "4d50437715094af2bdc95e4a81a12fe0",
            "9c63e3bb5b5e48b69ca3e6234adc68b6",
            "15f3ac9ec70445849047aaea72888ef9",
            "e41d574bade14068ab7c7be32d3b8013",
            "db73fea421ce4431ab84a79fc03801b9",
            "5e3925399b854c24aca5642bbc140d70",
            "db22c9cc99b343afb3b0efcd8e7d48a1",
            "d681b05c84bf455abccce079944acfd4",
            "0eb74aeaf7284f689813a2ae01d51f43",
            "af2f631022224a79a14f7382414bd42f",
            "5554ba59fc8d4e52897dc3ff98fc033d",
            "5ee77ca8eba342d0a97e0005e08ac38a",
            "846242bedafc4c2a9ed4a8c4b4057859",
            "fcbae6564a774818954bdf38a5e213d6",
            "fa6563bef793404ea02c5e37f8bd5024",
            "7c4686ecc6a84937a279d8f783ccca29",
            "e496e3346e3540e9a2dfd3f63202b7c8",
            "f2d1d0fadae6483e9747693b94de8373",
            "3d0bd16c8cff4184a42eebe877d98437",
            "f1ce7bb334cd486bab6222434be49ee2",
            "1b410db20a9c4f6cb165c9588e1cc93f",
            "174f8e98e0114928ab2aace5fb72bcc8",
            "cb6f60f8e5c44fb88e24082e2b06b4a0",
            "25f26bb47b4745f6ab623206e266c61c",
            "124a4e6cc1c54152a11bafbb58664726",
            "d02386622ecd4f0cbc8eb0932dd9d95b",
            "87bb8dae16674d5b89d41f6c1fdf157f",
            "e5787590e6204fba9908ce62338c9a3f",
            "a803ddcd2ddc4ed8a771586db134bebc",
            "95ca9f37b3a3407b8f43bd724a71ee19",
            "7861001b60844526bcec6e597d9f08f0",
            "14b624bd44564e36a400a6337c6e9d97",
            "e1fd77b21b1045ef9de2043542688401",
            "bc9a98074f654c369c271f911e29ce11",
            "8330818de684471b954670a1219e9c1f",
            "248c0ca1f41c4834bf66139971452019",
            "103c2ba995b04985829cf5ed4eb7b900",
            "2887d7104c144a01b003f552c252d66b",
            "54d3d8ce2549461f85f86f17c1b1475e",
            "73a7f9098b3e4d1ba072e9ad384d25c7",
            "0951a48f70c747589746bda5b9e872d6",
            "1c81e96fbe0e4939afa51b56396c39d4"
          ]
        },
        "id": "E_LIVrmCETzU",
        "outputId": "5beb8b49-943e-43d3-aa8b-13d712bd0794"
      },
      "execution_count": 140,
      "outputs": [
        {
          "output_type": "stream",
          "name": "stderr",
          "text": [
            "DEBUG:cmdstanpy:found newer exe file, not recompiling\n",
            "DEBUG:cmdstanpy:input tempfile: /tmp/tmpe2flu_nx/13r6eazp.json\n",
            "DEBUG:cmdstanpy:cmd: /content/model_ex2 info\n",
            "cwd: None\n",
            "12:50:12 - cmdstanpy - INFO - CmdStan start processing\n",
            "INFO:cmdstanpy:CmdStan start processing\n"
          ]
        },
        {
          "output_type": "display_data",
          "data": {
            "text/plain": [
              "chain 1 |          | 00:00 Status"
            ],
            "application/vnd.jupyter.widget-view+json": {
              "version_major": 2,
              "version_minor": 0,
              "model_id": "36d40a96d3794a32b41c924d13317e84"
            }
          },
          "metadata": {}
        },
        {
          "output_type": "display_data",
          "data": {
            "text/plain": [
              "chain 2 |          | 00:00 Status"
            ],
            "application/vnd.jupyter.widget-view+json": {
              "version_major": 2,
              "version_minor": 0,
              "model_id": "af2f631022224a79a14f7382414bd42f"
            }
          },
          "metadata": {}
        },
        {
          "output_type": "display_data",
          "data": {
            "text/plain": [
              "chain 3 |          | 00:00 Status"
            ],
            "application/vnd.jupyter.widget-view+json": {
              "version_major": 2,
              "version_minor": 0,
              "model_id": "1b410db20a9c4f6cb165c9588e1cc93f"
            }
          },
          "metadata": {}
        },
        {
          "output_type": "display_data",
          "data": {
            "text/plain": [
              "chain 4 |          | 00:00 Status"
            ],
            "application/vnd.jupyter.widget-view+json": {
              "version_major": 2,
              "version_minor": 0,
              "model_id": "14b624bd44564e36a400a6337c6e9d97"
            }
          },
          "metadata": {}
        },
        {
          "output_type": "stream",
          "name": "stderr",
          "text": [
            "DEBUG:cmdstanpy:idx 0\n",
            "DEBUG:cmdstanpy:idx 1\n",
            "DEBUG:cmdstanpy:running CmdStan, num_threads: 1\n",
            "DEBUG:cmdstanpy:CmdStan args: ['/content/model_ex2', 'id=2', 'random', 'seed=41180', 'data', 'file=/tmp/tmpe2flu_nx/13r6eazp.json', 'output', 'file=/tmp/tmpe2flu_nx/model_ex2r75g36tn/model_ex2-20230329125012_2.csv', 'method=sample', 'algorithm=hmc', 'adapt', 'engaged=1']\n",
            "DEBUG:cmdstanpy:running CmdStan, num_threads: 1\n",
            "DEBUG:cmdstanpy:CmdStan args: ['/content/model_ex2', 'id=1', 'random', 'seed=41180', 'data', 'file=/tmp/tmpe2flu_nx/13r6eazp.json', 'output', 'file=/tmp/tmpe2flu_nx/model_ex2r75g36tn/model_ex2-20230329125012_1.csv', 'method=sample', 'algorithm=hmc', 'adapt', 'engaged=1']\n",
            "DEBUG:cmdstanpy:idx 2\n",
            "DEBUG:cmdstanpy:running CmdStan, num_threads: 1\n",
            "DEBUG:cmdstanpy:CmdStan args: ['/content/model_ex2', 'id=3', 'random', 'seed=41180', 'data', 'file=/tmp/tmpe2flu_nx/13r6eazp.json', 'output', 'file=/tmp/tmpe2flu_nx/model_ex2r75g36tn/model_ex2-20230329125012_3.csv', 'method=sample', 'algorithm=hmc', 'adapt', 'engaged=1']\n",
            "DEBUG:cmdstanpy:idx 3\n",
            "DEBUG:cmdstanpy:running CmdStan, num_threads: 1\n",
            "DEBUG:cmdstanpy:CmdStan args: ['/content/model_ex2', 'id=4', 'random', 'seed=41180', 'data', 'file=/tmp/tmpe2flu_nx/13r6eazp.json', 'output', 'file=/tmp/tmpe2flu_nx/model_ex2r75g36tn/model_ex2-20230329125012_4.csv', 'method=sample', 'algorithm=hmc', 'adapt', 'engaged=1']\n"
          ]
        },
        {
          "output_type": "stream",
          "name": "stdout",
          "text": [
            "                                                                                                                                                                                                                                                                                                                                "
          ]
        },
        {
          "output_type": "stream",
          "name": "stderr",
          "text": [
            "12:50:12 - cmdstanpy - INFO - CmdStan done processing.\n",
            "INFO:cmdstanpy:CmdStan done processing.\n",
            "DEBUG:cmdstanpy:runset\n",
            "RunSet: chains=4, chain_ids=[1, 2, 3, 4], num_processes=4\n",
            " cmd (chain 1):\n",
            "\t['/content/model_ex2', 'id=1', 'random', 'seed=41180', 'data', 'file=/tmp/tmpe2flu_nx/13r6eazp.json', 'output', 'file=/tmp/tmpe2flu_nx/model_ex2r75g36tn/model_ex2-20230329125012_1.csv', 'method=sample', 'algorithm=hmc', 'adapt', 'engaged=1']\n",
            " retcodes=[0, 0, 0, 0]\n",
            " per-chain output files (showing chain 1 only):\n",
            " csv_file:\n",
            "\t/tmp/tmpe2flu_nx/model_ex2r75g36tn/model_ex2-20230329125012_1.csv\n",
            " console_msgs (if any):\n",
            "\t/tmp/tmpe2flu_nx/model_ex2r75g36tn/model_ex2-20230329125012_0-stdout.txt\n",
            "DEBUG:cmdstanpy:Chain 1 console:\n",
            "method = sample (Default)\n",
            "  sample\n",
            "    num_samples = 1000 (Default)\n",
            "    num_warmup = 1000 (Default)\n",
            "    save_warmup = 0 (Default)\n",
            "    thin = 1 (Default)\n",
            "    adapt\n",
            "      engaged = 1 (Default)\n",
            "      gamma = 0.050000000000000003 (Default)\n",
            "      delta = 0.80000000000000004 (Default)\n",
            "      kappa = 0.75 (Default)\n",
            "      t0 = 10 (Default)\n",
            "      init_buffer = 75 (Default)\n",
            "      term_buffer = 50 (Default)\n",
            "      window = 25 (Default)\n",
            "    algorithm = hmc (Default)\n",
            "      hmc\n",
            "        engine = nuts (Default)\n",
            "          nuts\n",
            "            max_depth = 10 (Default)\n",
            "        metric = diag_e (Default)\n",
            "        metric_file =  (Default)\n",
            "        stepsize = 1 (Default)\n",
            "        stepsize_jitter = 0 (Default)\n",
            "    num_chains = 1 (Default)\n",
            "id = 1 (Default)\n",
            "data\n",
            "  file = /tmp/tmpe2flu_nx/13r6eazp.json\n",
            "init = 2 (Default)\n",
            "random\n",
            "  seed = 41180\n",
            "output\n",
            "  file = /tmp/tmpe2flu_nx/model_ex2r75g36tn/model_ex2-20230329125012_1.csv\n",
            "  diagnostic_file =  (Default)\n",
            "  refresh = 100 (Default)\n",
            "  sig_figs = -1 (Default)\n",
            "  profile_file = profile.csv (Default)\n",
            "num_threads = 1 (Default)\n",
            "\n",
            "\n",
            "Gradient evaluation took 6e-06 seconds\n",
            "1000 transitions using 10 leapfrog steps per transition would take 0.06 seconds.\n",
            "Adjust your expectations accordingly!\n",
            "\n",
            "\n",
            "Iteration:    1 / 2000 [  0%]  (Warmup)\n",
            "Iteration:  100 / 2000 [  5%]  (Warmup)\n",
            "Iteration:  200 / 2000 [ 10%]  (Warmup)\n",
            "Iteration:  300 / 2000 [ 15%]  (Warmup)\n",
            "Iteration:  400 / 2000 [ 20%]  (Warmup)\n",
            "Iteration:  500 / 2000 [ 25%]  (Warmup)\n",
            "Iteration:  600 / 2000 [ 30%]  (Warmup)\n",
            "Iteration:  700 / 2000 [ 35%]  (Warmup)\n",
            "Iteration:  800 / 2000 [ 40%]  (Warmup)\n",
            "Iteration:  900 / 2000 [ 45%]  (Warmup)\n",
            "Iteration: 1000 / 2000 [ 50%]  (Warmup)\n",
            "Iteration: 1001 / 2000 [ 50%]  (Sampling)\n",
            "Iteration: 1100 / 2000 [ 55%]  (Sampling)\n",
            "Iteration: 1200 / 2000 [ 60%]  (Sampling)\n",
            "Iteration: 1300 / 2000 [ 65%]  (Sampling)\n",
            "Iteration: 1400 / 2000 [ 70%]  (Sampling)\n",
            "Iteration: 1500 / 2000 [ 75%]  (Sampling)\n",
            "Iteration: 1600 / 2000 [ 80%]  (Sampling)\n",
            "Iteration: 1700 / 2000 [ 85%]  (Sampling)\n",
            "Iteration: 1800 / 2000 [ 90%]  (Sampling)\n",
            "Iteration: 1900 / 2000 [ 95%]  (Sampling)\n",
            "Iteration: 2000 / 2000 [100%]  (Sampling)\n",
            "\n",
            " Elapsed Time: 0.021 seconds (Warm-up)\n",
            "               0.064 seconds (Sampling)\n",
            "               0.085 seconds (Total)\n",
            "\n",
            "\n"
          ]
        },
        {
          "output_type": "stream",
          "name": "stdout",
          "text": [
            "\n",
            "[3. 8. 0. ... 2. 6. 3.]\n"
          ]
        }
      ]
    },
    {
      "cell_type": "markdown",
      "metadata": {
        "id": "mknWd21-CMtr"
      },
      "source": [
        "3. Compute ratio of predicted allergic reactions for each sample and create a histogram."
      ]
    },
    {
      "cell_type": "code",
      "source": [
        "y_pred_ratios  = y_pred_samples / data['N']\n",
        "\n",
        "# Create a histogram of the ratios\n",
        "plt.hist(y_pred_ratios , bins=50, density=True)\n",
        "plt.xlabel('Ratio')\n",
        "plt.ylabel('Density')\n",
        "plt.title('Ratio of Predicted Allergic Reactions')\n",
        "plt.grid()\n",
        "plt.show()\n"
      ],
      "metadata": {
        "colab": {
          "base_uri": "https://localhost:8080/",
          "height": 295
        },
        "id": "ryhST5ZtEX3_",
        "outputId": "e4adb695-699b-4697-f83b-6d472ed9287a"
      },
      "execution_count": 141,
      "outputs": [
        {
          "output_type": "display_data",
          "data": {
            "text/plain": [
              "<Figure size 432x288 with 1 Axes>"
            ],
            "image/png": "[encoded data removed]"
          },
          "metadata": {
            "needs_background": "light"
          }
        }
      ]
    },
    {
      "cell_type": "markdown",
      "metadata": {
        "id": "FuLwYua7CMtr"
      },
      "source": [
        "4. Compute the expected value and 94% density interval of the predicted ratio, compare it with expected value and 94% density interval of parameter p. Use arviz package."
      ]
    },
    {
      "cell_type": "code",
      "source": [
        "# Compute the expected value and 94% density interval of the predicted ratio\n",
        "y_pred_mean = y_pred_ratios.mean()\n",
        "y_pred_ci = az.hdi(y_pred_ratios, hdi_prob=0.94)\n",
        "\n",
        "# Compute the expected value and 94% density interval of the parameter p\n",
        "p_mean = p_samples.mean()\n",
        "p_ci = az.hdi(p_samples, hdi_prob=0.94)\n",
        "\n",
        "# Print the results\n",
        "print('Predicted ratio: {:.3f} (94% CI: [{:.3f}, {:.3f}])'.format(y_pred_mean, y_pred_ci[0], y_pred_ci[1]))\n",
        "print('Parameter p: {:.3f} (94% CI: [{:.3f}, {:.3f}])'.format(p_mean, p_ci[0], p_ci[1]))\n"
      ],
      "metadata": {
        "colab": {
          "base_uri": "https://localhost:8080/"
        },
        "id": "neCJJewIl942",
        "outputId": "0c56f87e-25f8-413a-daaa-4be1dae385fc"
      },
      "execution_count": 142,
      "outputs": [
        {
          "output_type": "stream",
          "name": "stdout",
          "text": [
            "Predicted ratio: 0.080 (94% CI: [0.000, 0.160])\n",
            "Parameter p: 0.207 (94% CI: [0.015, 0.418])\n"
          ]
        }
      ]
    },
    {
      "cell_type": "markdown",
      "metadata": {
        "id": "1jApyzl8CMtr"
      },
      "source": [
        "5. Compute the probability that ratio is lower than the average probability from traditional vaccines (count the number of simulated ratios that are smaller)."
      ]
    },
    {
      "cell_type": "code",
      "source": [
        "# Define prior knowledge about the average probability of allergic reactions from traditional vaccines\n",
        "avg_prob = 7/50\n",
        "\n",
        "# Compute the number of simulated ratios that are smaller than the average probability\n",
        "num_smaller = np.sum(y_pred_ratios < avg_prob)\n",
        "\n",
        "# Compute the probability that the ratio is lower than the average probability\n",
        "prob_smaller = num_smaller / len(y_pred_ratios)\n",
        "print(prob_smaller)\n",
        "# Print the result\n",
        "print('Probability that ratio is lower than the average probability from traditional vaccines: {:.2%}'.format(prob_smaller))\n"
      ],
      "metadata": {
        "colab": {
          "base_uri": "https://localhost:8080/"
        },
        "id": "RQpTeoB-nluZ",
        "outputId": "5ef925de-9a1b-4465-dd6f-2b2114081ba8"
      },
      "execution_count": 143,
      "outputs": [
        {
          "output_type": "stream",
          "name": "stdout",
          "text": [
            "0.87175\n",
            "Probability that ratio is lower than the average probability from traditional vaccines: 87.17%\n"
          ]
        }
      ]
    },
    {
      "cell_type": "markdown",
      "source": [],
      "metadata": {
        "id": "4YS3SGgFV8F1"
      }
    }
  ],
  "metadata": {
    "kernelspec": {
      "display_name": "Python 3",
      "language": "python",
      "name": "python3"
    },
    "language_info": {
      "codemirror_mode": {
        "name": "ipython",
        "version": 3
      },
      "file_extension": ".py",
      "mimetype": "text/x-python",
      "name": "python",
      "nbconvert_exporter": "python",
      "pygments_lexer": "ipython3",
      "version": "3.10.0"
    },
    "orig_nbformat": 4,
    "colab": {
      "provenance": []
    },
    "widgets": {
      "application/vnd.jupyter.widget-state+json": {
        "ba4cfbfd871d4cf68c2233588664cd73": {
          "model_module": "@jupyter-widgets/controls",
          "model_name": "HBoxModel",
          "model_module_version": "1.5.0",
          "state": {
            "_dom_classes": [],
            "_model_module": "@jupyter-widgets/controls",
            "_model_module_version": "1.5.0",
            "_model_name": "HBoxModel",
            "_view_count": null,
            "_view_module": "@jupyter-widgets/controls",
            "_view_module_version": "1.5.0",
            "_view_name": "HBoxView",
            "box_style": "",
            "children": [
              "IPY_MODEL_725446515505495f852404706c162afb",
              "IPY_MODEL_2fd6888e6f1b49c5beb36c836627d074",
              "IPY_MODEL_f55ec784486543bab14124f5da3be526"
            ],
            "layout": "IPY_MODEL_8f24c27f14a64a6898c057eab9ccf22c"
          }
        },
        "725446515505495f852404706c162afb": {
          "model_module": "@jupyter-widgets/controls",
          "model_name": "HTMLModel",
          "model_module_version": "1.5.0",
          "state": {
            "_dom_classes": [],
            "_model_module": "@jupyter-widgets/controls",
            "_model_module_version": "1.5.0",
            "_model_name": "HTMLModel",
            "_view_count": null,
            "_view_module": "@jupyter-widgets/controls",
            "_view_module_version": "1.5.0",
            "_view_name": "HTMLView",
            "description": "",
            "description_tooltip": null,
            "layout": "IPY_MODEL_5cde58fb7d8441e4a0f75f63dc7814dd",
            "placeholder": "​",
            "style": "IPY_MODEL_5d97ebbbfa64427f8fdace2d4d819775",
            "value": "chain 1 "
          }
        },
        "2fd6888e6f1b49c5beb36c836627d074": {
          "model_module": "@jupyter-widgets/controls",
          "model_name": "FloatProgressModel",
          "model_module_version": "1.5.0",
          "state": {
            "_dom_classes": [],
            "_model_module": "@jupyter-widgets/controls",
            "_model_module_version": "1.5.0",
            "_model_name": "FloatProgressModel",
            "_view_count": null,
            "_view_module": "@jupyter-widgets/controls",
            "_view_module_version": "1.5.0",
            "_view_name": "ProgressView",
            "bar_style": "success",
            "description": "",
            "description_tooltip": null,
            "layout": "IPY_MODEL_51dc15f31b4a4aa682cea3c485c20152",
            "max": 22,
            "min": 0,
            "orientation": "horizontal",
            "style": "IPY_MODEL_62972933035940ff8b574b728aa83dd4",
            "value": 22
          }
        },
        "f55ec784486543bab14124f5da3be526": {
          "model_module": "@jupyter-widgets/controls",
          "model_name": "HTMLModel",
          "model_module_version": "1.5.0",
          "state": {
            "_dom_classes": [],
            "_model_module": "@jupyter-widgets/controls",
            "_model_module_version": "1.5.0",
            "_model_name": "HTMLModel",
            "_view_count": null,
            "_view_module": "@jupyter-widgets/controls",
            "_view_module_version": "1.5.0",
            "_view_name": "HTMLView",
            "description": "",
            "description_tooltip": null,
            "layout": "IPY_MODEL_82f77d2edd0d4a7f83efaf361081f6b0",
            "placeholder": "​",
            "style": "IPY_MODEL_3d044109df2145f18ec88de8ef842fbe",
            "value": " 00:00 Sampling completed"
          }
        },
        "8f24c27f14a64a6898c057eab9ccf22c": {
          "model_module": "@jupyter-widgets/base",
          "model_name": "LayoutModel",
          "model_module_version": "1.2.0",
          "state": {
            "_model_module": "@jupyter-widgets/base",
            "_model_module_version": "1.2.0",
            "_model_name": "LayoutModel",
            "_view_count": null,
            "_view_module": "@jupyter-widgets/base",
            "_view_module_version": "1.2.0",
            "_view_name": "LayoutView",
            "align_content": null,
            "align_items": null,
            "align_self": null,
            "border": null,
            "bottom": null,
            "display": null,
            "flex": null,
            "flex_flow": null,
            "grid_area": null,
            "grid_auto_columns": null,
            "grid_auto_flow": null,
            "grid_auto_rows": null,
            "grid_column": null,
            "grid_gap": null,
            "grid_row": null,
            "grid_template_areas": null,
            "grid_template_columns": null,
            "grid_template_rows": null,
            "height": null,
            "justify_content": null,
            "justify_items": null,
            "left": null,
            "margin": null,
            "max_height": null,
            "max_width": null,
            "min_height": null,
            "min_width": null,
            "object_fit": null,
            "object_position": null,
            "order": null,
            "overflow": null,
            "overflow_x": null,
            "overflow_y": null,
            "padding": null,
            "right": null,
            "top": null,
            "visibility": null,
            "width": null
          }
        },
        "5cde58fb7d8441e4a0f75f63dc7814dd": {
          "model_module": "@jupyter-widgets/base",
          "model_name": "LayoutModel",
          "model_module_version": "1.2.0",
          "state": {
            "_model_module": "@jupyter-widgets/base",
            "_model_module_version": "1.2.0",
            "_model_name": "LayoutModel",
            "_view_count": null,
            "_view_module": "@jupyter-widgets/base",
            "_view_module_version": "1.2.0",
            "_view_name": "LayoutView",
            "align_content": null,
            "align_items": null,
            "align_self": null,
            "border": null,
            "bottom": null,
            "display": null,
            "flex": null,
            "flex_flow": null,
            "grid_area": null,
            "grid_auto_columns": null,
            "grid_auto_flow": null,
            "grid_auto_rows": null,
            "grid_column": null,
            "grid_gap": null,
            "grid_row": null,
            "grid_template_areas": null,
            "grid_template_columns": null,
            "grid_template_rows": null,
            "height": null,
            "justify_content": null,
            "justify_items": null,
            "left": null,
            "margin": null,
            "max_height": null,
            "max_width": null,
            "min_height": null,
            "min_width": null,
            "object_fit": null,
            "object_position": null,
            "order": null,
            "overflow": null,
            "overflow_x": null,
            "overflow_y": null,
            "padding": null,
            "right": null,
            "top": null,
            "visibility": null,
            "width": null
          }
        },
        "5d97ebbbfa64427f8fdace2d4d819775": {
          "model_module": "@jupyter-widgets/controls",
          "model_name": "DescriptionStyleModel",
          "model_module_version": "1.5.0",
          "state": {
            "_model_module": "@jupyter-widgets/controls",
            "_model_module_version": "1.5.0",
            "_model_name": "DescriptionStyleModel",
            "_view_count": null,
            "_view_module": "@jupyter-widgets/base",
            "_view_module_version": "1.2.0",
            "_view_name": "StyleView",
            "description_width": ""
          }
        },
        "51dc15f31b4a4aa682cea3c485c20152": {
          "model_module": "@jupyter-widgets/base",
          "model_name": "LayoutModel",
          "model_module_version": "1.2.0",
          "state": {
            "_model_module": "@jupyter-widgets/base",
            "_model_module_version": "1.2.0",
            "_model_name": "LayoutModel",
            "_view_count": null,
            "_view_module": "@jupyter-widgets/base",
            "_view_module_version": "1.2.0",
            "_view_name": "LayoutView",
            "align_content": null,
            "align_items": null,
            "align_self": null,
            "border": null,
            "bottom": null,
            "display": null,
            "flex": null,
            "flex_flow": null,
            "grid_area": null,
            "grid_auto_columns": null,
            "grid_auto_flow": null,
            "grid_auto_rows": null,
            "grid_column": null,
            "grid_gap": null,
            "grid_row": null,
            "grid_template_areas": null,
            "grid_template_columns": null,
            "grid_template_rows": null,
            "height": null,
            "justify_content": null,
            "justify_items": null,
            "left": null,
            "margin": null,
            "max_height": null,
            "max_width": null,
            "min_height": null,
            "min_width": null,
            "object_fit": null,
            "object_position": null,
            "order": null,
            "overflow": null,
            "overflow_x": null,
            "overflow_y": null,
            "padding": null,
            "right": null,
            "top": null,
            "visibility": null,
            "width": null
          }
        },
        "62972933035940ff8b574b728aa83dd4": {
          "model_module": "@jupyter-widgets/controls",
          "model_name": "ProgressStyleModel",
          "model_module_version": "1.5.0",
          "state": {
            "_model_module": "@jupyter-widgets/controls",
            "_model_module_version": "1.5.0",
            "_model_name": "ProgressStyleModel",
            "_view_count": null,
            "_view_module": "@jupyter-widgets/base",
            "_view_module_version": "1.2.0",
            "_view_name": "StyleView",
            "bar_color": "blue",
            "description_width": ""
          }
        },
        "82f77d2edd0d4a7f83efaf361081f6b0": {
          "model_module": "@jupyter-widgets/base",
          "model_name": "LayoutModel",
          "model_module_version": "1.2.0",
          "state": {
            "_model_module": "@jupyter-widgets/base",
            "_model_module_version": "1.2.0",
            "_model_name": "LayoutModel",
            "_view_count": null,
            "_view_module": "@jupyter-widgets/base",
            "_view_module_version": "1.2.0",
            "_view_name": "LayoutView",
            "align_content": null,
            "align_items": null,
            "align_self": null,
            "border": null,
            "bottom": null,
            "display": null,
            "flex": null,
            "flex_flow": null,
            "grid_area": null,
            "grid_auto_columns": null,
            "grid_auto_flow": null,
            "grid_auto_rows": null,
            "grid_column": null,
            "grid_gap": null,
            "grid_row": null,
            "grid_template_areas": null,
            "grid_template_columns": null,
            "grid_template_rows": null,
            "height": null,
            "justify_content": null,
            "justify_items": null,
            "left": null,
            "margin": null,
            "max_height": null,
            "max_width": null,
            "min_height": null,
            "min_width": null,
            "object_fit": null,
            "object_position": null,
            "order": null,
            "overflow": null,
            "overflow_x": null,
            "overflow_y": null,
            "padding": null,
            "right": null,
            "top": null,
            "visibility": null,
            "width": null
          }
        },
        "3d044109df2145f18ec88de8ef842fbe": {
          "model_module": "@jupyter-widgets/controls",
          "model_name": "DescriptionStyleModel",
          "model_module_version": "1.5.0",
          "state": {
            "_model_module": "@jupyter-widgets/controls",
            "_model_module_version": "1.5.0",
            "_model_name": "DescriptionStyleModel",
            "_view_count": null,
            "_view_module": "@jupyter-widgets/base",
            "_view_module_version": "1.2.0",
            "_view_name": "StyleView",
            "description_width": ""
          }
        },
        "36d40a96d3794a32b41c924d13317e84": {
          "model_module": "@jupyter-widgets/controls",
          "model_name": "HBoxModel",
          "model_module_version": "1.5.0",
          "state": {
            "_dom_classes": [],
            "_model_module": "@jupyter-widgets/controls",
            "_model_module_version": "1.5.0",
            "_model_name": "HBoxModel",
            "_view_count": null,
            "_view_module": "@jupyter-widgets/controls",
            "_view_module_version": "1.5.0",
            "_view_name": "HBoxView",
            "box_style": "",
            "children": [
              "IPY_MODEL_2eac9ca735d3466f82e19629a9abdbe9",
              "IPY_MODEL_4d50437715094af2bdc95e4a81a12fe0",
              "IPY_MODEL_9c63e3bb5b5e48b69ca3e6234adc68b6"
            ],
            "layout": "IPY_MODEL_15f3ac9ec70445849047aaea72888ef9"
          }
        },
        "2eac9ca735d3466f82e19629a9abdbe9": {
          "model_module": "@jupyter-widgets/controls",
          "model_name": "HTMLModel",
          "model_module_version": "1.5.0",
          "state": {
            "_dom_classes": [],
            "_model_module": "@jupyter-widgets/controls",
            "_model_module_version": "1.5.0",
            "_model_name": "HTMLModel",
            "_view_count": null,
            "_view_module": "@jupyter-widgets/controls",
            "_view_module_version": "1.5.0",
            "_view_name": "HTMLView",
            "description": "",
            "description_tooltip": null,
            "layout": "IPY_MODEL_e41d574bade14068ab7c7be32d3b8013",
            "placeholder": "​",
            "style": "IPY_MODEL_db73fea421ce4431ab84a79fc03801b9",
            "value": "chain 1 "
          }
        },
        "4d50437715094af2bdc95e4a81a12fe0": {
          "model_module": "@jupyter-widgets/controls",
          "model_name": "FloatProgressModel",
          "model_module_version": "1.5.0",
          "state": {
            "_dom_classes": [],
            "_model_module": "@jupyter-widgets/controls",
            "_model_module_version": "1.5.0",
            "_model_name": "FloatProgressModel",
            "_view_count": null,
            "_view_module": "@jupyter-widgets/controls",
            "_view_module_version": "1.5.0",
            "_view_name": "ProgressView",
            "bar_style": "success",
            "description": "",
            "description_tooltip": null,
            "layout": "IPY_MODEL_5e3925399b854c24aca5642bbc140d70",
            "max": 22,
            "min": 0,
            "orientation": "horizontal",
            "style": "IPY_MODEL_db22c9cc99b343afb3b0efcd8e7d48a1",
            "value": 22
          }
        },
        "9c63e3bb5b5e48b69ca3e6234adc68b6": {
          "model_module": "@jupyter-widgets/controls",
          "model_name": "HTMLModel",
          "model_module_version": "1.5.0",
          "state": {
            "_dom_classes": [],
            "_model_module": "@jupyter-widgets/controls",
            "_model_module_version": "1.5.0",
            "_model_name": "HTMLModel",
            "_view_count": null,
            "_view_module": "@jupyter-widgets/controls",
            "_view_module_version": "1.5.0",
            "_view_name": "HTMLView",
            "description": "",
            "description_tooltip": null,
            "layout": "IPY_MODEL_d681b05c84bf455abccce079944acfd4",
            "placeholder": "​",
            "style": "IPY_MODEL_0eb74aeaf7284f689813a2ae01d51f43",
            "value": " 00:00 Sampling completed"
          }
        },
        "15f3ac9ec70445849047aaea72888ef9": {
          "model_module": "@jupyter-widgets/base",
          "model_name": "LayoutModel",
          "model_module_version": "1.2.0",
          "state": {
            "_model_module": "@jupyter-widgets/base",
            "_model_module_version": "1.2.0",
            "_model_name": "LayoutModel",
            "_view_count": null,
            "_view_module": "@jupyter-widgets/base",
            "_view_module_version": "1.2.0",
            "_view_name": "LayoutView",
            "align_content": null,
            "align_items": null,
            "align_self": null,
            "border": null,
            "bottom": null,
            "display": null,
            "flex": null,
            "flex_flow": null,
            "grid_area": null,
            "grid_auto_columns": null,
            "grid_auto_flow": null,
            "grid_auto_rows": null,
            "grid_column": null,
            "grid_gap": null,
            "grid_row": null,
            "grid_template_areas": null,
            "grid_template_columns": null,
            "grid_template_rows": null,
            "height": null,
            "justify_content": null,
            "justify_items": null,
            "left": null,
            "margin": null,
            "max_height": null,
            "max_width": null,
            "min_height": null,
            "min_width": null,
            "object_fit": null,
            "object_position": null,
            "order": null,
            "overflow": null,
            "overflow_x": null,
            "overflow_y": null,
            "padding": null,
            "right": null,
            "top": null,
            "visibility": null,
            "width": null
          }
        },
        "e41d574bade14068ab7c7be32d3b8013": {
          "model_module": "@jupyter-widgets/base",
          "model_name": "LayoutModel",
          "model_module_version": "1.2.0",
          "state": {
            "_model_module": "@jupyter-widgets/base",
            "_model_module_version": "1.2.0",
            "_model_name": "LayoutModel",
            "_view_count": null,
            "_view_module": "@jupyter-widgets/base",
            "_view_module_version": "1.2.0",
            "_view_name": "LayoutView",
            "align_content": null,
            "align_items": null,
            "align_self": null,
            "border": null,
            "bottom": null,
            "display": null,
            "flex": null,
            "flex_flow": null,
            "grid_area": null,
            "grid_auto_columns": null,
            "grid_auto_flow": null,
            "grid_auto_rows": null,
            "grid_column": null,
            "grid_gap": null,
            "grid_row": null,
            "grid_template_areas": null,
            "grid_template_columns": null,
            "grid_template_rows": null,
            "height": null,
            "justify_content": null,
            "justify_items": null,
            "left": null,
            "margin": null,
            "max_height": null,
            "max_width": null,
            "min_height": null,
            "min_width": null,
            "object_fit": null,
            "object_position": null,
            "order": null,
            "overflow": null,
            "overflow_x": null,
            "overflow_y": null,
            "padding": null,
            "right": null,
            "top": null,
            "visibility": null,
            "width": null
          }
        },
        "db73fea421ce4431ab84a79fc03801b9": {
          "model_module": "@jupyter-widgets/controls",
          "model_name": "DescriptionStyleModel",
          "model_module_version": "1.5.0",
          "state": {
            "_model_module": "@jupyter-widgets/controls",
            "_model_module_version": "1.5.0",
            "_model_name": "DescriptionStyleModel",
            "_view_count": null,
            "_view_module": "@jupyter-widgets/base",
            "_view_module_version": "1.2.0",
            "_view_name": "StyleView",
            "description_width": ""
          }
        },
        "5e3925399b854c24aca5642bbc140d70": {
          "model_module": "@jupyter-widgets/base",
          "model_name": "LayoutModel",
          "model_module_version": "1.2.0",
          "state": {
            "_model_module": "@jupyter-widgets/base",
            "_model_module_version": "1.2.0",
            "_model_name": "LayoutModel",
            "_view_count": null,
            "_view_module": "@jupyter-widgets/base",
            "_view_module_version": "1.2.0",
            "_view_name": "LayoutView",
            "align_content": null,
            "align_items": null,
            "align_self": null,
            "border": null,
            "bottom": null,
            "display": null,
            "flex": null,
            "flex_flow": null,
            "grid_area": null,
            "grid_auto_columns": null,
            "grid_auto_flow": null,
            "grid_auto_rows": null,
            "grid_column": null,
            "grid_gap": null,
            "grid_row": null,
            "grid_template_areas": null,
            "grid_template_columns": null,
            "grid_template_rows": null,
            "height": null,
            "justify_content": null,
            "justify_items": null,
            "left": null,
            "margin": null,
            "max_height": null,
            "max_width": null,
            "min_height": null,
            "min_width": null,
            "object_fit": null,
            "object_position": null,
            "order": null,
            "overflow": null,
            "overflow_x": null,
            "overflow_y": null,
            "padding": null,
            "right": null,
            "top": null,
            "visibility": null,
            "width": null
          }
        },
        "db22c9cc99b343afb3b0efcd8e7d48a1": {
          "model_module": "@jupyter-widgets/controls",
          "model_name": "ProgressStyleModel",
          "model_module_version": "1.5.0",
          "state": {
            "_model_module": "@jupyter-widgets/controls",
            "_model_module_version": "1.5.0",
            "_model_name": "ProgressStyleModel",
            "_view_count": null,
            "_view_module": "@jupyter-widgets/base",
            "_view_module_version": "1.2.0",
            "_view_name": "StyleView",
            "bar_color": "blue",
            "description_width": ""
          }
        },
        "d681b05c84bf455abccce079944acfd4": {
          "model_module": "@jupyter-widgets/base",
          "model_name": "LayoutModel",
          "model_module_version": "1.2.0",
          "state": {
            "_model_module": "@jupyter-widgets/base",
            "_model_module_version": "1.2.0",
            "_model_name": "LayoutModel",
            "_view_count": null,
            "_view_module": "@jupyter-widgets/base",
            "_view_module_version": "1.2.0",
            "_view_name": "LayoutView",
            "align_content": null,
            "align_items": null,
            "align_self": null,
            "border": null,
            "bottom": null,
            "display": null,
            "flex": null,
            "flex_flow": null,
            "grid_area": null,
            "grid_auto_columns": null,
            "grid_auto_flow": null,
            "grid_auto_rows": null,
            "grid_column": null,
            "grid_gap": null,
            "grid_row": null,
            "grid_template_areas": null,
            "grid_template_columns": null,
            "grid_template_rows": null,
            "height": null,
            "justify_content": null,
            "justify_items": null,
            "left": null,
            "margin": null,
            "max_height": null,
            "max_width": null,
            "min_height": null,
            "min_width": null,
            "object_fit": null,
            "object_position": null,
            "order": null,
            "overflow": null,
            "overflow_x": null,
            "overflow_y": null,
            "padding": null,
            "right": null,
            "top": null,
            "visibility": null,
            "width": null
          }
        },
        "0eb74aeaf7284f689813a2ae01d51f43": {
          "model_module": "@jupyter-widgets/controls",
          "model_name": "DescriptionStyleModel",
          "model_module_version": "1.5.0",
          "state": {
            "_model_module": "@jupyter-widgets/controls",
            "_model_module_version": "1.5.0",
            "_model_name": "DescriptionStyleModel",
            "_view_count": null,
            "_view_module": "@jupyter-widgets/base",
            "_view_module_version": "1.2.0",
            "_view_name": "StyleView",
            "description_width": ""
          }
        },
        "af2f631022224a79a14f7382414bd42f": {
          "model_module": "@jupyter-widgets/controls",
          "model_name": "HBoxModel",
          "model_module_version": "1.5.0",
          "state": {
            "_dom_classes": [],
            "_model_module": "@jupyter-widgets/controls",
            "_model_module_version": "1.5.0",
            "_model_name": "HBoxModel",
            "_view_count": null,
            "_view_module": "@jupyter-widgets/controls",
            "_view_module_version": "1.5.0",
            "_view_name": "HBoxView",
            "box_style": "",
            "children": [
              "IPY_MODEL_5554ba59fc8d4e52897dc3ff98fc033d",
              "IPY_MODEL_5ee77ca8eba342d0a97e0005e08ac38a",
              "IPY_MODEL_846242bedafc4c2a9ed4a8c4b4057859"
            ],
            "layout": "IPY_MODEL_fcbae6564a774818954bdf38a5e213d6"
          }
        },
        "5554ba59fc8d4e52897dc3ff98fc033d": {
          "model_module": "@jupyter-widgets/controls",
          "model_name": "HTMLModel",
          "model_module_version": "1.5.0",
          "state": {
            "_dom_classes": [],
            "_model_module": "@jupyter-widgets/controls",
            "_model_module_version": "1.5.0",
            "_model_name": "HTMLModel",
            "_view_count": null,
            "_view_module": "@jupyter-widgets/controls",
            "_view_module_version": "1.5.0",
            "_view_name": "HTMLView",
            "description": "",
            "description_tooltip": null,
            "layout": "IPY_MODEL_fa6563bef793404ea02c5e37f8bd5024",
            "placeholder": "​",
            "style": "IPY_MODEL_7c4686ecc6a84937a279d8f783ccca29",
            "value": "chain 2 "
          }
        },
        "5ee77ca8eba342d0a97e0005e08ac38a": {
          "model_module": "@jupyter-widgets/controls",
          "model_name": "FloatProgressModel",
          "model_module_version": "1.5.0",
          "state": {
            "_dom_classes": [],
            "_model_module": "@jupyter-widgets/controls",
            "_model_module_version": "1.5.0",
            "_model_name": "FloatProgressModel",
            "_view_count": null,
            "_view_module": "@jupyter-widgets/controls",
            "_view_module_version": "1.5.0",
            "_view_name": "ProgressView",
            "bar_style": "success",
            "description": "",
            "description_tooltip": null,
            "layout": "IPY_MODEL_e496e3346e3540e9a2dfd3f63202b7c8",
            "max": 22,
            "min": 0,
            "orientation": "horizontal",
            "style": "IPY_MODEL_f2d1d0fadae6483e9747693b94de8373",
            "value": 22
          }
        },
        "846242bedafc4c2a9ed4a8c4b4057859": {
          "model_module": "@jupyter-widgets/controls",
          "model_name": "HTMLModel",
          "model_module_version": "1.5.0",
          "state": {
            "_dom_classes": [],
            "_model_module": "@jupyter-widgets/controls",
            "_model_module_version": "1.5.0",
            "_model_name": "HTMLModel",
            "_view_count": null,
            "_view_module": "@jupyter-widgets/controls",
            "_view_module_version": "1.5.0",
            "_view_name": "HTMLView",
            "description": "",
            "description_tooltip": null,
            "layout": "IPY_MODEL_3d0bd16c8cff4184a42eebe877d98437",
            "placeholder": "​",
            "style": "IPY_MODEL_f1ce7bb334cd486bab6222434be49ee2",
            "value": " 00:00 Sampling completed"
          }
        },
        "fcbae6564a774818954bdf38a5e213d6": {
          "model_module": "@jupyter-widgets/base",
          "model_name": "LayoutModel",
          "model_module_version": "1.2.0",
          "state": {
            "_model_module": "@jupyter-widgets/base",
            "_model_module_version": "1.2.0",
            "_model_name": "LayoutModel",
            "_view_count": null,
            "_view_module": "@jupyter-widgets/base",
            "_view_module_version": "1.2.0",
            "_view_name": "LayoutView",
            "align_content": null,
            "align_items": null,
            "align_self": null,
            "border": null,
            "bottom": null,
            "display": null,
            "flex": null,
            "flex_flow": null,
            "grid_area": null,
            "grid_auto_columns": null,
            "grid_auto_flow": null,
            "grid_auto_rows": null,
            "grid_column": null,
            "grid_gap": null,
            "grid_row": null,
            "grid_template_areas": null,
            "grid_template_columns": null,
            "grid_template_rows": null,
            "height": null,
            "justify_content": null,
            "justify_items": null,
            "left": null,
            "margin": null,
            "max_height": null,
            "max_width": null,
            "min_height": null,
            "min_width": null,
            "object_fit": null,
            "object_position": null,
            "order": null,
            "overflow": null,
            "overflow_x": null,
            "overflow_y": null,
            "padding": null,
            "right": null,
            "top": null,
            "visibility": null,
            "width": null
          }
        },
        "fa6563bef793404ea02c5e37f8bd5024": {
          "model_module": "@jupyter-widgets/base",
          "model_name": "LayoutModel",
          "model_module_version": "1.2.0",
          "state": {
            "_model_module": "@jupyter-widgets/base",
            "_model_module_version": "1.2.0",
            "_model_name": "LayoutModel",
            "_view_count": null,
            "_view_module": "@jupyter-widgets/base",
            "_view_module_version": "1.2.0",
            "_view_name": "LayoutView",
            "align_content": null,
            "align_items": null,
            "align_self": null,
            "border": null,
            "bottom": null,
            "display": null,
            "flex": null,
            "flex_flow": null,
            "grid_area": null,
            "grid_auto_columns": null,
            "grid_auto_flow": null,
            "grid_auto_rows": null,
            "grid_column": null,
            "grid_gap": null,
            "grid_row": null,
            "grid_template_areas": null,
            "grid_template_columns": null,
            "grid_template_rows": null,
            "height": null,
            "justify_content": null,
            "justify_items": null,
            "left": null,
            "margin": null,
            "max_height": null,
            "max_width": null,
            "min_height": null,
            "min_width": null,
            "object_fit": null,
            "object_position": null,
            "order": null,
            "overflow": null,
            "overflow_x": null,
            "overflow_y": null,
            "padding": null,
            "right": null,
            "top": null,
            "visibility": null,
            "width": null
          }
        },
        "7c4686ecc6a84937a279d8f783ccca29": {
          "model_module": "@jupyter-widgets/controls",
          "model_name": "DescriptionStyleModel",
          "model_module_version": "1.5.0",
          "state": {
            "_model_module": "@jupyter-widgets/controls",
            "_model_module_version": "1.5.0",
            "_model_name": "DescriptionStyleModel",
            "_view_count": null,
            "_view_module": "@jupyter-widgets/base",
            "_view_module_version": "1.2.0",
            "_view_name": "StyleView",
            "description_width": ""
          }
        },
        "e496e3346e3540e9a2dfd3f63202b7c8": {
          "model_module": "@jupyter-widgets/base",
          "model_name": "LayoutModel",
          "model_module_version": "1.2.0",
          "state": {
            "_model_module": "@jupyter-widgets/base",
            "_model_module_version": "1.2.0",
            "_model_name": "LayoutModel",
            "_view_count": null,
            "_view_module": "@jupyter-widgets/base",
            "_view_module_version": "1.2.0",
            "_view_name": "LayoutView",
            "align_content": null,
            "align_items": null,
            "align_self": null,
            "border": null,
            "bottom": null,
            "display": null,
            "flex": null,
            "flex_flow": null,
            "grid_area": null,
            "grid_auto_columns": null,
            "grid_auto_flow": null,
            "grid_auto_rows": null,
            "grid_column": null,
            "grid_gap": null,
            "grid_row": null,
            "grid_template_areas": null,
            "grid_template_columns": null,
            "grid_template_rows": null,
            "height": null,
            "justify_content": null,
            "justify_items": null,
            "left": null,
            "margin": null,
            "max_height": null,
            "max_width": null,
            "min_height": null,
            "min_width": null,
            "object_fit": null,
            "object_position": null,
            "order": null,
            "overflow": null,
            "overflow_x": null,
            "overflow_y": null,
            "padding": null,
            "right": null,
            "top": null,
            "visibility": null,
            "width": null
          }
        },
        "f2d1d0fadae6483e9747693b94de8373": {
          "model_module": "@jupyter-widgets/controls",
          "model_name": "ProgressStyleModel",
          "model_module_version": "1.5.0",
          "state": {
            "_model_module": "@jupyter-widgets/controls",
            "_model_module_version": "1.5.0",
            "_model_name": "ProgressStyleModel",
            "_view_count": null,
            "_view_module": "@jupyter-widgets/base",
            "_view_module_version": "1.2.0",
            "_view_name": "StyleView",
            "bar_color": "blue",
            "description_width": ""
          }
        },
        "3d0bd16c8cff4184a42eebe877d98437": {
          "model_module": "@jupyter-widgets/base",
          "model_name": "LayoutModel",
          "model_module_version": "1.2.0",
          "state": {
            "_model_module": "@jupyter-widgets/base",
            "_model_module_version": "1.2.0",
            "_model_name": "LayoutModel",
            "_view_count": null,
            "_view_module": "@jupyter-widgets/base",
            "_view_module_version": "1.2.0",
            "_view_name": "LayoutView",
            "align_content": null,
            "align_items": null,
            "align_self": null,
            "border": null,
            "bottom": null,
            "display": null,
            "flex": null,
            "flex_flow": null,
            "grid_area": null,
            "grid_auto_columns": null,
            "grid_auto_flow": null,
            "grid_auto_rows": null,
            "grid_column": null,
            "grid_gap": null,
            "grid_row": null,
            "grid_template_areas": null,
            "grid_template_columns": null,
            "grid_template_rows": null,
            "height": null,
            "justify_content": null,
            "justify_items": null,
            "left": null,
            "margin": null,
            "max_height": null,
            "max_width": null,
            "min_height": null,
            "min_width": null,
            "object_fit": null,
            "object_position": null,
            "order": null,
            "overflow": null,
            "overflow_x": null,
            "overflow_y": null,
            "padding": null,
            "right": null,
            "top": null,
            "visibility": null,
            "width": null
          }
        },
        "f1ce7bb334cd486bab6222434be49ee2": {
          "model_module": "@jupyter-widgets/controls",
          "model_name": "DescriptionStyleModel",
          "model_module_version": "1.5.0",
          "state": {
            "_model_module": "@jupyter-widgets/controls",
            "_model_module_version": "1.5.0",
            "_model_name": "DescriptionStyleModel",
            "_view_count": null,
            "_view_module": "@jupyter-widgets/base",
            "_view_module_version": "1.2.0",
            "_view_name": "StyleView",
            "description_width": ""
          }
        },
        "1b410db20a9c4f6cb165c9588e1cc93f": {
          "model_module": "@jupyter-widgets/controls",
          "model_name": "HBoxModel",
          "model_module_version": "1.5.0",
          "state": {
            "_dom_classes": [],
            "_model_module": "@jupyter-widgets/controls",
            "_model_module_version": "1.5.0",
            "_model_name": "HBoxModel",
            "_view_count": null,
            "_view_module": "@jupyter-widgets/controls",
            "_view_module_version": "1.5.0",
            "_view_name": "HBoxView",
            "box_style": "",
            "children": [
              "IPY_MODEL_174f8e98e0114928ab2aace5fb72bcc8",
              "IPY_MODEL_cb6f60f8e5c44fb88e24082e2b06b4a0",
              "IPY_MODEL_25f26bb47b4745f6ab623206e266c61c"
            ],
            "layout": "IPY_MODEL_124a4e6cc1c54152a11bafbb58664726"
          }
        },
        "174f8e98e0114928ab2aace5fb72bcc8": {
          "model_module": "@jupyter-widgets/controls",
          "model_name": "HTMLModel",
          "model_module_version": "1.5.0",
          "state": {
            "_dom_classes": [],
            "_model_module": "@jupyter-widgets/controls",
            "_model_module_version": "1.5.0",
            "_model_name": "HTMLModel",
            "_view_count": null,
            "_view_module": "@jupyter-widgets/controls",
            "_view_module_version": "1.5.0",
            "_view_name": "HTMLView",
            "description": "",
            "description_tooltip": null,
            "layout": "IPY_MODEL_d02386622ecd4f0cbc8eb0932dd9d95b",
            "placeholder": "​",
            "style": "IPY_MODEL_87bb8dae16674d5b89d41f6c1fdf157f",
            "value": "chain 3 "
          }
        },
        "cb6f60f8e5c44fb88e24082e2b06b4a0": {
          "model_module": "@jupyter-widgets/controls",
          "model_name": "FloatProgressModel",
          "model_module_version": "1.5.0",
          "state": {
            "_dom_classes": [],
            "_model_module": "@jupyter-widgets/controls",
            "_model_module_version": "1.5.0",
            "_model_name": "FloatProgressModel",
            "_view_count": null,
            "_view_module": "@jupyter-widgets/controls",
            "_view_module_version": "1.5.0",
            "_view_name": "ProgressView",
            "bar_style": "success",
            "description": "",
            "description_tooltip": null,
            "layout": "IPY_MODEL_e5787590e6204fba9908ce62338c9a3f",
            "max": 22,
            "min": 0,
            "orientation": "horizontal",
            "style": "IPY_MODEL_a803ddcd2ddc4ed8a771586db134bebc",
            "value": 22
          }
        },
        "25f26bb47b4745f6ab623206e266c61c": {
          "model_module": "@jupyter-widgets/controls",
          "model_name": "HTMLModel",
          "model_module_version": "1.5.0",
          "state": {
            "_dom_classes": [],
            "_model_module": "@jupyter-widgets/controls",
            "_model_module_version": "1.5.0",
            "_model_name": "HTMLModel",
            "_view_count": null,
            "_view_module": "@jupyter-widgets/controls",
            "_view_module_version": "1.5.0",
            "_view_name": "HTMLView",
            "description": "",
            "description_tooltip": null,
            "layout": "IPY_MODEL_95ca9f37b3a3407b8f43bd724a71ee19",
            "placeholder": "​",
            "style": "IPY_MODEL_7861001b60844526bcec6e597d9f08f0",
            "value": " 00:00 Sampling completed"
          }
        },
        "124a4e6cc1c54152a11bafbb58664726": {
          "model_module": "@jupyter-widgets/base",
          "model_name": "LayoutModel",
          "model_module_version": "1.2.0",
          "state": {
            "_model_module": "@jupyter-widgets/base",
            "_model_module_version": "1.2.0",
            "_model_name": "LayoutModel",
            "_view_count": null,
            "_view_module": "@jupyter-widgets/base",
            "_view_module_version": "1.2.0",
            "_view_name": "LayoutView",
            "align_content": null,
            "align_items": null,
            "align_self": null,
            "border": null,
            "bottom": null,
            "display": null,
            "flex": null,
            "flex_flow": null,
            "grid_area": null,
            "grid_auto_columns": null,
            "grid_auto_flow": null,
            "grid_auto_rows": null,
            "grid_column": null,
            "grid_gap": null,
            "grid_row": null,
            "grid_template_areas": null,
            "grid_template_columns": null,
            "grid_template_rows": null,
            "height": null,
            "justify_content": null,
            "justify_items": null,
            "left": null,
            "margin": null,
            "max_height": null,
            "max_width": null,
            "min_height": null,
            "min_width": null,
            "object_fit": null,
            "object_position": null,
            "order": null,
            "overflow": null,
            "overflow_x": null,
            "overflow_y": null,
            "padding": null,
            "right": null,
            "top": null,
            "visibility": null,
            "width": null
          }
        },
        "d02386622ecd4f0cbc8eb0932dd9d95b": {
          "model_module": "@jupyter-widgets/base",
          "model_name": "LayoutModel",
          "model_module_version": "1.2.0",
          "state": {
            "_model_module": "@jupyter-widgets/base",
            "_model_module_version": "1.2.0",
            "_model_name": "LayoutModel",
            "_view_count": null,
            "_view_module": "@jupyter-widgets/base",
            "_view_module_version": "1.2.0",
            "_view_name": "LayoutView",
            "align_content": null,
            "align_items": null,
            "align_self": null,
            "border": null,
            "bottom": null,
            "display": null,
            "flex": null,
            "flex_flow": null,
            "grid_area": null,
            "grid_auto_columns": null,
            "grid_auto_flow": null,
            "grid_auto_rows": null,
            "grid_column": null,
            "grid_gap": null,
            "grid_row": null,
            "grid_template_areas": null,
            "grid_template_columns": null,
            "grid_template_rows": null,
            "height": null,
            "justify_content": null,
            "justify_items": null,
            "left": null,
            "margin": null,
            "max_height": null,
            "max_width": null,
            "min_height": null,
            "min_width": null,
            "object_fit": null,
            "object_position": null,
            "order": null,
            "overflow": null,
            "overflow_x": null,
            "overflow_y": null,
            "padding": null,
            "right": null,
            "top": null,
            "visibility": null,
            "width": null
          }
        },
        "87bb8dae16674d5b89d41f6c1fdf157f": {
          "model_module": "@jupyter-widgets/controls",
          "model_name": "DescriptionStyleModel",
          "model_module_version": "1.5.0",
          "state": {
            "_model_module": "@jupyter-widgets/controls",
            "_model_module_version": "1.5.0",
            "_model_name": "DescriptionStyleModel",
            "_view_count": null,
            "_view_module": "@jupyter-widgets/base",
            "_view_module_version": "1.2.0",
            "_view_name": "StyleView",
            "description_width": ""
          }
        },
        "e5787590e6204fba9908ce62338c9a3f": {
          "model_module": "@jupyter-widgets/base",
          "model_name": "LayoutModel",
          "model_module_version": "1.2.0",
          "state": {
            "_model_module": "@jupyter-widgets/base",
            "_model_module_version": "1.2.0",
            "_model_name": "LayoutModel",
            "_view_count": null,
            "_view_module": "@jupyter-widgets/base",
            "_view_module_version": "1.2.0",
            "_view_name": "LayoutView",
            "align_content": null,
            "align_items": null,
            "align_self": null,
            "border": null,
            "bottom": null,
            "display": null,
            "flex": null,
            "flex_flow": null,
            "grid_area": null,
            "grid_auto_columns": null,
            "grid_auto_flow": null,
            "grid_auto_rows": null,
            "grid_column": null,
            "grid_gap": null,
            "grid_row": null,
            "grid_template_areas": null,
            "grid_template_columns": null,
            "grid_template_rows": null,
            "height": null,
            "justify_content": null,
            "justify_items": null,
            "left": null,
            "margin": null,
            "max_height": null,
            "max_width": null,
            "min_height": null,
            "min_width": null,
            "object_fit": null,
            "object_position": null,
            "order": null,
            "overflow": null,
            "overflow_x": null,
            "overflow_y": null,
            "padding": null,
            "right": null,
            "top": null,
            "visibility": null,
            "width": null
          }
        },
        "a803ddcd2ddc4ed8a771586db134bebc": {
          "model_module": "@jupyter-widgets/controls",
          "model_name": "ProgressStyleModel",
          "model_module_version": "1.5.0",
          "state": {
            "_model_module": "@jupyter-widgets/controls",
            "_model_module_version": "1.5.0",
            "_model_name": "ProgressStyleModel",
            "_view_count": null,
            "_view_module": "@jupyter-widgets/base",
            "_view_module_version": "1.2.0",
            "_view_name": "StyleView",
            "bar_color": "blue",
            "description_width": ""
          }
        },
        "95ca9f37b3a3407b8f43bd724a71ee19": {
          "model_module": "@jupyter-widgets/base",
          "model_name": "LayoutModel",
          "model_module_version": "1.2.0",
          "state": {
            "_model_module": "@jupyter-widgets/base",
            "_model_module_version": "1.2.0",
            "_model_name": "LayoutModel",
            "_view_count": null,
            "_view_module": "@jupyter-widgets/base",
            "_view_module_version": "1.2.0",
            "_view_name": "LayoutView",
            "align_content": null,
            "align_items": null,
            "align_self": null,
            "border": null,
            "bottom": null,
            "display": null,
            "flex": null,
            "flex_flow": null,
            "grid_area": null,
            "grid_auto_columns": null,
            "grid_auto_flow": null,
            "grid_auto_rows": null,
            "grid_column": null,
            "grid_gap": null,
            "grid_row": null,
            "grid_template_areas": null,
            "grid_template_columns": null,
            "grid_template_rows": null,
            "height": null,
            "justify_content": null,
            "justify_items": null,
            "left": null,
            "margin": null,
            "max_height": null,
            "max_width": null,
            "min_height": null,
            "min_width": null,
            "object_fit": null,
            "object_position": null,
            "order": null,
            "overflow": null,
            "overflow_x": null,
            "overflow_y": null,
            "padding": null,
            "right": null,
            "top": null,
            "visibility": null,
            "width": null
          }
        },
        "7861001b60844526bcec6e597d9f08f0": {
          "model_module": "@jupyter-widgets/controls",
          "model_name": "DescriptionStyleModel",
          "model_module_version": "1.5.0",
          "state": {
            "_model_module": "@jupyter-widgets/controls",
            "_model_module_version": "1.5.0",
            "_model_name": "DescriptionStyleModel",
            "_view_count": null,
            "_view_module": "@jupyter-widgets/base",
            "_view_module_version": "1.2.0",
            "_view_name": "StyleView",
            "description_width": ""
          }
        },
        "14b624bd44564e36a400a6337c6e9d97": {
          "model_module": "@jupyter-widgets/controls",
          "model_name": "HBoxModel",
          "model_module_version": "1.5.0",
          "state": {
            "_dom_classes": [],
            "_model_module": "@jupyter-widgets/controls",
            "_model_module_version": "1.5.0",
            "_model_name": "HBoxModel",
            "_view_count": null,
            "_view_module": "@jupyter-widgets/controls",
            "_view_module_version": "1.5.0",
            "_view_name": "HBoxView",
            "box_style": "",
            "children": [
              "IPY_MODEL_e1fd77b21b1045ef9de2043542688401",
              "IPY_MODEL_bc9a98074f654c369c271f911e29ce11",
              "IPY_MODEL_8330818de684471b954670a1219e9c1f"
            ],
            "layout": "IPY_MODEL_248c0ca1f41c4834bf66139971452019"
          }
        },
        "e1fd77b21b1045ef9de2043542688401": {
          "model_module": "@jupyter-widgets/controls",
          "model_name": "HTMLModel",
          "model_module_version": "1.5.0",
          "state": {
            "_dom_classes": [],
            "_model_module": "@jupyter-widgets/controls",
            "_model_module_version": "1.5.0",
            "_model_name": "HTMLModel",
            "_view_count": null,
            "_view_module": "@jupyter-widgets/controls",
            "_view_module_version": "1.5.0",
            "_view_name": "HTMLView",
            "description": "",
            "description_tooltip": null,
            "layout": "IPY_MODEL_103c2ba995b04985829cf5ed4eb7b900",
            "placeholder": "​",
            "style": "IPY_MODEL_2887d7104c144a01b003f552c252d66b",
            "value": "chain 4 "
          }
        },
        "bc9a98074f654c369c271f911e29ce11": {
          "model_module": "@jupyter-widgets/controls",
          "model_name": "FloatProgressModel",
          "model_module_version": "1.5.0",
          "state": {
            "_dom_classes": [],
            "_model_module": "@jupyter-widgets/controls",
            "_model_module_version": "1.5.0",
            "_model_name": "FloatProgressModel",
            "_view_count": null,
            "_view_module": "@jupyter-widgets/controls",
            "_view_module_version": "1.5.0",
            "_view_name": "ProgressView",
            "bar_style": "success",
            "description": "",
            "description_tooltip": null,
            "layout": "IPY_MODEL_54d3d8ce2549461f85f86f17c1b1475e",
            "max": 22,
            "min": 0,
            "orientation": "horizontal",
            "style": "IPY_MODEL_73a7f9098b3e4d1ba072e9ad384d25c7",
            "value": 22
          }
        },
        "8330818de684471b954670a1219e9c1f": {
          "model_module": "@jupyter-widgets/controls",
          "model_name": "HTMLModel",
          "model_module_version": "1.5.0",
          "state": {
            "_dom_classes": [],
            "_model_module": "@jupyter-widgets/controls",
            "_model_module_version": "1.5.0",
            "_model_name": "HTMLModel",
            "_view_count": null,
            "_view_module": "@jupyter-widgets/controls",
            "_view_module_version": "1.5.0",
            "_view_name": "HTMLView",
            "description": "",
            "description_tooltip": null,
            "layout": "IPY_MODEL_0951a48f70c747589746bda5b9e872d6",
            "placeholder": "​",
            "style": "IPY_MODEL_1c81e96fbe0e4939afa51b56396c39d4",
            "value": " 00:00 Sampling completed"
          }
        },
        "248c0ca1f41c4834bf66139971452019": {
          "model_module": "@jupyter-widgets/base",
          "model_name": "LayoutModel",
          "model_module_version": "1.2.0",
          "state": {
            "_model_module": "@jupyter-widgets/base",
            "_model_module_version": "1.2.0",
            "_model_name": "LayoutModel",
            "_view_count": null,
            "_view_module": "@jupyter-widgets/base",
            "_view_module_version": "1.2.0",
            "_view_name": "LayoutView",
            "align_content": null,
            "align_items": null,
            "align_self": null,
            "border": null,
            "bottom": null,
            "display": null,
            "flex": null,
            "flex_flow": null,
            "grid_area": null,
            "grid_auto_columns": null,
            "grid_auto_flow": null,
            "grid_auto_rows": null,
            "grid_column": null,
            "grid_gap": null,
            "grid_row": null,
            "grid_template_areas": null,
            "grid_template_columns": null,
            "grid_template_rows": null,
            "height": null,
            "justify_content": null,
            "justify_items": null,
            "left": null,
            "margin": null,
            "max_height": null,
            "max_width": null,
            "min_height": null,
            "min_width": null,
            "object_fit": null,
            "object_position": null,
            "order": null,
            "overflow": null,
            "overflow_x": null,
            "overflow_y": null,
            "padding": null,
            "right": null,
            "top": null,
            "visibility": null,
            "width": null
          }
        },
        "103c2ba995b04985829cf5ed4eb7b900": {
          "model_module": "@jupyter-widgets/base",
          "model_name": "LayoutModel",
          "model_module_version": "1.2.0",
          "state": {
            "_model_module": "@jupyter-widgets/base",
            "_model_module_version": "1.2.0",
            "_model_name": "LayoutModel",
            "_view_count": null,
            "_view_module": "@jupyter-widgets/base",
            "_view_module_version": "1.2.0",
            "_view_name": "LayoutView",
            "align_content": null,
            "align_items": null,
            "align_self": null,
            "border": null,
            "bottom": null,
            "display": null,
            "flex": null,
            "flex_flow": null,
            "grid_area": null,
            "grid_auto_columns": null,
            "grid_auto_flow": null,
            "grid_auto_rows": null,
            "grid_column": null,
            "grid_gap": null,
            "grid_row": null,
            "grid_template_areas": null,
            "grid_template_columns": null,
            "grid_template_rows": null,
            "height": null,
            "justify_content": null,
            "justify_items": null,
            "left": null,
            "margin": null,
            "max_height": null,
            "max_width": null,
            "min_height": null,
            "min_width": null,
            "object_fit": null,
            "object_position": null,
            "order": null,
            "overflow": null,
            "overflow_x": null,
            "overflow_y": null,
            "padding": null,
            "right": null,
            "top": null,
            "visibility": null,
            "width": null
          }
        },
        "2887d7104c144a01b003f552c252d66b": {
          "model_module": "@jupyter-widgets/controls",
          "model_name": "DescriptionStyleModel",
          "model_module_version": "1.5.0",
          "state": {
            "_model_module": "@jupyter-widgets/controls",
            "_model_module_version": "1.5.0",
            "_model_name": "DescriptionStyleModel",
            "_view_count": null,
            "_view_module": "@jupyter-widgets/base",
            "_view_module_version": "1.2.0",
            "_view_name": "StyleView",
            "description_width": ""
          }
        },
        "54d3d8ce2549461f85f86f17c1b1475e": {
          "model_module": "@jupyter-widgets/base",
          "model_name": "LayoutModel",
          "model_module_version": "1.2.0",
          "state": {
            "_model_module": "@jupyter-widgets/base",
            "_model_module_version": "1.2.0",
            "_model_name": "LayoutModel",
            "_view_count": null,
            "_view_module": "@jupyter-widgets/base",
            "_view_module_version": "1.2.0",
            "_view_name": "LayoutView",
            "align_content": null,
            "align_items": null,
            "align_self": null,
            "border": null,
            "bottom": null,
            "display": null,
            "flex": null,
            "flex_flow": null,
            "grid_area": null,
            "grid_auto_columns": null,
            "grid_auto_flow": null,
            "grid_auto_rows": null,
            "grid_column": null,
            "grid_gap": null,
            "grid_row": null,
            "grid_template_areas": null,
            "grid_template_columns": null,
            "grid_template_rows": null,
            "height": null,
            "justify_content": null,
            "justify_items": null,
            "left": null,
            "margin": null,
            "max_height": null,
            "max_width": null,
            "min_height": null,
            "min_width": null,
            "object_fit": null,
            "object_position": null,
            "order": null,
            "overflow": null,
            "overflow_x": null,
            "overflow_y": null,
            "padding": null,
            "right": null,
            "top": null,
            "visibility": null,
            "width": null
          }
        },
        "73a7f9098b3e4d1ba072e9ad384d25c7": {
          "model_module": "@jupyter-widgets/controls",
          "model_name": "ProgressStyleModel",
          "model_module_version": "1.5.0",
          "state": {
            "_model_module": "@jupyter-widgets/controls",
            "_model_module_version": "1.5.0",
            "_model_name": "ProgressStyleModel",
            "_view_count": null,
            "_view_module": "@jupyter-widgets/base",
            "_view_module_version": "1.2.0",
            "_view_name": "StyleView",
            "bar_color": "blue",
            "description_width": ""
          }
        },
        "0951a48f70c747589746bda5b9e872d6": {
          "model_module": "@jupyter-widgets/base",
          "model_name": "LayoutModel",
          "model_module_version": "1.2.0",
          "state": {
            "_model_module": "@jupyter-widgets/base",
            "_model_module_version": "1.2.0",
            "_model_name": "LayoutModel",
            "_view_count": null,
            "_view_module": "@jupyter-widgets/base",
            "_view_module_version": "1.2.0",
            "_view_name": "LayoutView",
            "align_content": null,
            "align_items": null,
            "align_self": null,
            "border": null,
            "bottom": null,
            "display": null,
            "flex": null,
            "flex_flow": null,
            "grid_area": null,
            "grid_auto_columns": null,
            "grid_auto_flow": null,
            "grid_auto_rows": null,
            "grid_column": null,
            "grid_gap": null,
            "grid_row": null,
            "grid_template_areas": null,
            "grid_template_columns": null,
            "grid_template_rows": null,
            "height": null,
            "justify_content": null,
            "justify_items": null,
            "left": null,
            "margin": null,
            "max_height": null,
            "max_width": null,
            "min_height": null,
            "min_width": null,
            "object_fit": null,
            "object_position": null,
            "order": null,
            "overflow": null,
            "overflow_x": null,
            "overflow_y": null,
            "padding": null,
            "right": null,
            "top": null,
            "visibility": null,
            "width": null
          }
        },
        "1c81e96fbe0e4939afa51b56396c39d4": {
          "model_module": "@jupyter-widgets/controls",
          "model_name": "DescriptionStyleModel",
          "model_module_version": "1.5.0",
          "state": {
            "_model_module": "@jupyter-widgets/controls",
            "_model_module_version": "1.5.0",
            "_model_name": "DescriptionStyleModel",
            "_view_count": null,
            "_view_module": "@jupyter-widgets/base",
            "_view_module_version": "1.2.0",
            "_view_name": "StyleView",
            "description_width": ""
          }
        }
      }
    }
  },
  "nbformat": 4,
  "nbformat_minor": 0
}